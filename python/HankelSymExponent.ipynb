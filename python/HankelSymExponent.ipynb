{
 "cells": [
  {
   "cell_type": "code",
   "execution_count": 4,
   "metadata": {
    "collapsed": false
   },
   "outputs": [],
   "source": [
    "import numpy as np\n",
    "import math\n",
    "\n",
    "def alpha(k):\n",
    "    return math.log(k*(k+1)/2,k)"
   ]
  },
  {
   "cell_type": "code",
   "execution_count": 5,
   "metadata": {
    "collapsed": false
   },
   "outputs": [
    {
     "name": "stdout",
     "output_type": "stream",
     "text": [
      "1.5849625007211563\n",
      "1.6309297535714573\n",
      "1.6609640474436813\n",
      "1.6826061944859854\n",
      "1.6991803252671502\n",
      "1.7124143742160443\n",
      "1.7233083338141042\n",
      "1.7324867603589633\n",
      "1.7403626894942439\n",
      "1.7472217363092137\n",
      "1.753268609531583\n",
      "1.758654412959299\n",
      "1.7634934633405681\n",
      "1.7678740744294463\n",
      "1.771865710312585\n",
      "1.77552387007698\n",
      "1.7788935082334043\n",
      "1.7820114830995408\n"
     ]
    }
   ],
   "source": [
    "for k in np.arange(2,20):\n",
    "    print(alpha(k))"
   ]
  },
  {
   "cell_type": "code",
   "execution_count": 6,
   "metadata": {
    "collapsed": false
   },
   "outputs": [
    {
     "data": {
      "text/plain": [
       "3.8963867315900083"
      ]
     },
     "execution_count": 6,
     "metadata": {},
     "output_type": "execute_result"
    }
   ],
   "source": [
    "1+np.sqrt(1+np.exp(2))"
   ]
  },
  {
   "cell_type": "code",
   "execution_count": null,
   "metadata": {
    "collapsed": true
   },
   "outputs": [],
   "source": []
  }
 ],
 "metadata": {
  "kernelspec": {
   "display_name": "Python 3",
   "language": "python",
   "name": "python3"
  },
  "language_info": {
   "codemirror_mode": {
    "name": "ipython",
    "version": 3
   },
   "file_extension": ".py",
   "mimetype": "text/x-python",
   "name": "python",
   "nbconvert_exporter": "python",
   "pygments_lexer": "ipython3",
   "version": "3.4.3"
  }
 },
 "nbformat": 4,
 "nbformat_minor": 2
}
