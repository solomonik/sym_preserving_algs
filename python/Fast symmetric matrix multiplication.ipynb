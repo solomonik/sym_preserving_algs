{
 "cells": [
  {
   "cell_type": "markdown",
   "metadata": {},
   "source": [
    "We show how to compute the symmetrized product of two symmetric matrices $A$, $B$, defined by $C=AB+BA$ using ${n+2 \\choose 3}$ multiplications rather than $n^3$. Some third order intermediate tensors are computed using the Cyclops Tensor Framework (CTF) library"
   ]
  },
  {
   "cell_type": "code",
   "execution_count": 1,
   "metadata": {
    "collapsed": true
   },
   "outputs": [],
   "source": [
    "import numpy as np\n",
    "import ctf"
   ]
  },
  {
   "cell_type": "markdown",
   "metadata": {},
   "source": [
    "Generate random symmetric matrices and compute a reference answer using `numpy`."
   ]
  },
  {
   "cell_type": "code",
   "execution_count": 2,
   "metadata": {
    "collapsed": true
   },
   "outputs": [],
   "source": [
    "n=4\n",
    "def get_rand_sym_mat(n):\n",
    "    A = np.random.random((n,n))-.5\n",
    "    A = np.triu(A)\n",
    "    A = A + A.T\n",
    "    return A\n",
    "A = get_rand_sym_mat(n)\n",
    "B = get_rand_sym_mat(n)\n",
    "\n",
    "C_ref = A @ B + B @ A"
   ]
  },
  {
   "cell_type": "markdown",
   "metadata": {},
   "source": [
    "Compute intermediate tensor $$\\hat{Z}_{ijk} = (A_{ij}+A_{ik}+A_{jk})\\cdot(B_{ij}+B_{ik}+B_{jk})$$"
   ]
  },
  {
   "cell_type": "code",
   "execution_count": 3,
   "metadata": {
    "collapsed": false
   },
   "outputs": [
    {
     "data": {
      "text/plain": [
       "array([[-0.7012935 ,  0.25441344,  0.43707546, -0.30600761],\n",
       "       [ 0.25441344,  0.01987776, -0.43530173, -0.17038102],\n",
       "       [ 0.43707546, -0.43530173, -0.39342573,  0.17131543],\n",
       "       [-0.30600761, -0.17038102,  0.17131543, -0.8083512 ]])"
      ]
     },
     "execution_count": 3,
     "metadata": {},
     "output_type": "execute_result"
    }
   ],
   "source": [
    "A = ctf.astensor(A)\n",
    "B = ctf.astensor(B)\n",
    "C = ctf.tsr([n,n])\n",
    "\n",
    "Zhat = ctf.tsr([n,n,n])\n",
    "Zhat.i(\"ijk\")<<(A.i(\"ij\")+A.i(\"ik\")+A.i(\"jk\"))*(B.i(\"ij\")+B.i(\"ik\")+B.i(\"jk\"))\n",
    "A"
   ]
  },
  {
   "cell_type": "markdown",
   "metadata": {},
   "source": [
    "Write a function to verify symmetry of tensors and apply it to $\\hat{Z}$. We verify symmetry by checking that any transposition of modes leads to the same tensor. For a third order tensor, this implies that it has ${n+2\\choose 3}$ unique elements. We will avoid accessing the diagonals of $\\hat{Z}$, meaning they do not have to be computed, and only ${n\\choose 3}$ elements of $\\hat{Z}$ will be computed."
   ]
  },
  {
   "cell_type": "code",
   "execution_count": 4,
   "metadata": {
    "collapsed": false
   },
   "outputs": [
    {
     "name": "stdout",
     "output_type": "stream",
     "text": [
      "Number of unique nonzeros in Zhat is now 4.0\n",
      "This is also the number of multiplications we need to compute Zhat\n"
     ]
    }
   ],
   "source": [
    "def verify_sym(A):\n",
    "    for i in range(A.ndim):\n",
    "        for j in range(i):\n",
    "            istr1 = np.asarray(range(A.ndim))\n",
    "            istr2 = istr1.copy()\n",
    "            istr2[i] = istr1[j]\n",
    "            istr2[j] = istr1[i]\n",
    "            str1 = ''.join(str(s) for s in istr1)\n",
    "            str2 = ''.join(str(s) for s in istr2)\n",
    "            B = ctf.tsr(A.shape)\n",
    "            B.i(str1) << A.i(str1)\n",
    "            B.i(str2) << -1.0*B.i(str1)\n",
    "            assert(B.norm2()/B.size < .000001)\n",
    "#verify symmetry\n",
    "verify_sym(A)\n",
    "verify_sym(Zhat)\n",
    "#zero out diagonal elements we will not use\n",
    "Zhat.i(\"jii\").scl(0.0) \n",
    "Zhat.i(\"iji\").scl(0.0) \n",
    "Zhat.i(\"iij\").scl(0.0)\n",
    "#print(Zhat)\n",
    "print(\"Number of unique nonzeros in Zhat is now\", np.count_nonzero(Zhat.to_nparray())/6)\n",
    "print(\"This is also the number of multiplications we need to compute Zhat\")"
   ]
  },
  {
   "cell_type": "markdown",
   "metadata": {},
   "source": [
    "Now compute a partial sum of $\\hat{Z}$ into $Z$."
   ]
  },
  {
   "cell_type": "code",
   "execution_count": 5,
   "metadata": {
    "collapsed": false
   },
   "outputs": [
    {
     "data": {
      "text/plain": [
       "array([[ 0.        , -0.08308564, -0.11006679,  0.06560533],\n",
       "       [-0.08308564,  0.        ,  0.09919776,  0.27486988],\n",
       "       [-0.11006679,  0.09919776,  0.        ,  0.24788873],\n",
       "       [ 0.06560533,  0.27486988,  0.24788873,  0.        ]])"
      ]
     },
     "execution_count": 5,
     "metadata": {},
     "output_type": "execute_result"
    }
   ],
   "source": [
    "Z = ctf.tsr(A.shape)\n",
    "Z.i(\"ij\") << Zhat.i(\"ijk\")\n",
    "Z"
   ]
  },
  {
   "cell_type": "markdown",
   "metadata": {},
   "source": [
    "We define a function `a = lapsum(A)` which computes\n",
    "$$a_i = A_{ii} - \\sum_{j\\neq i} A_{ij}$$"
   ]
  },
  {
   "cell_type": "code",
   "execution_count": 6,
   "metadata": {
    "collapsed": false
   },
   "outputs": [
    {
     "name": "stdout",
     "output_type": "stream",
     "text": [
      "array([-0.38548128,  0.35126932, -0.17308915,  0.30507321])\n",
      "0.0\n"
     ]
    }
   ],
   "source": [
    "def lapsum(A):\n",
    "    B = ctf.tsr([n])\n",
    "    B.i(\"i\") << -1.0*A.i(\"ij\") + A.i(\"ii\")\n",
    "    return B\n",
    "a = lapsum(A)\n",
    "b = lapsum(B)\n",
    "def nplapsum(A):\n",
    "    B = np.zeros(n);\n",
    "    B[:] -= np.sum(A[:,i] for i in range(n))\n",
    "    B += 2.*np.diagonal(A)\n",
    "    return B\n",
    "print(lapsum(A))\n",
    "#print(nplapsum(A.to_nparray()))\n",
    "print(nplapsum(A.to_nparray()) @ nplapsum(B.to_nparray())-np.sum(nplapsum(A.to_nparray()*nplapsum(B.to_nparray()))))\n",
    "#print(nplapsum(A.to_nparray()) @ nplapsum(B.to_nparray())-np.sum(nplapsum(A.to_nparray()*B.to_nparray())))\n",
    "#print(A)\n",
    "#a"
   ]
  },
  {
   "cell_type": "markdown",
   "metadata": {},
   "source": [
    "Compute matrix\n",
    "$$U_{ij} = A_{ij}\\cdot \\left(-\\frac{n}{2}B_{ij} + b_i + b_j\\right)+\\left(-\\frac{n}{2}A_{ij} + a_i + a_j\\right)\\cdot B_{ij} $$\n",
    "where `a = lapsum(A)` and `b = lapsum(B)`. The elements of $U$ are meant to cancel some unwated terms in corresponding element of $Z$. Only $2{n \\choose 2}$ multiplications are needed to compute $U$, since both terms in it are symmetric and we will not use its diagonal."
   ]
  },
  {
   "cell_type": "code",
   "execution_count": 7,
   "metadata": {
    "collapsed": false
   },
   "outputs": [
    {
     "data": {
      "text/plain": [
       "array([[ 0.        ,  0.65200367, -0.13026307,  0.2364584 ],\n",
       "       [ 0.65200367,  0.        , -0.82856412, -0.13424194],\n",
       "       [-0.13026307, -0.82856412, -0.        ,  0.25717807],\n",
       "       [ 0.2364584 , -0.13424194,  0.25717807,  0.        ]])"
      ]
     },
     "execution_count": 7,
     "metadata": {},
     "output_type": "execute_result"
    }
   ],
   "source": [
    "U = ctf.tsr(A.shape)\n",
    "U.i(\"ij\") <<           (-(n/2.)*A.i(\"ij\") + a.i(\"i\") + a.i(\"j\"))*B.i(\"ij\")\n",
    "U.i(\"ij\") << A.i(\"ij\")*(-(n/2.)*B.i(\"ij\") + b.i(\"i\") + b.i(\"j\"))\n",
    "#ignore diagonal\n",
    "U.i(\"ii\").scl(0.0)\n",
    "U"
   ]
  },
  {
   "cell_type": "markdown",
   "metadata": {},
   "source": [
    "We know compute the vector, using the last $n$ multiplications (putting the total to ${n+2 \\choose 3}$)\n",
    "$$w_i = \\left(\\sum_j A_{ij}\\right)\\cdot \\left(\\sum_j B_{ij}\\right)$$"
   ]
  },
  {
   "cell_type": "code",
   "execution_count": 8,
   "metadata": {
    "collapsed": false
   },
   "outputs": [
    {
     "data": {
      "text/plain": [
       "array([-0.10997207, -0.01973192,  0.21302036, -0.70954666])"
      ]
     },
     "execution_count": 8,
     "metadata": {},
     "output_type": "execute_result"
    }
   ],
   "source": [
    "w = ctf.tsr([n])\n",
    "w.i(\"i\") << ctf.sum(A,axis=0).i(\"i\")*ctf.sum(B,axis=0).i(\"i\")\n",
    "w"
   ]
  },
  {
   "cell_type": "code",
   "execution_count": 15,
   "metadata": {
    "collapsed": false
   },
   "outputs": [
    {
     "name": "stdout",
     "output_type": "stream",
     "text": [
      "array([[ 0.32411346,  0.64834118, -0.20043032,  0.37658242],\n",
      "       [ 0.64834118, -0.16526716, -0.93415712, -0.02954367],\n",
      "       [-0.20043032, -0.93415712, -0.24431438,  0.29537158],\n",
      "       [ 0.37658242, -0.02954367,  0.29537158, -0.17507606]])\n",
      "array([[-0.2874998 , -0.11379012,  0.06121276, -0.07511788],\n",
      "       [-0.11379012,  0.01414053,  0.08610409,  0.00115246],\n",
      "       [ 0.06121276,  0.08610409,  0.23109086, -0.05510561],\n",
      "       [-0.07511788,  0.00115246, -0.05510561, -0.58218565]])\n",
      "array([[-1.3964173 ,  0.20953399,  0.05215405, -1.44249479],\n",
      "       [ 0.20953399,  0.15454779,  0.28454588, -0.2444073 ],\n",
      "       [ 0.05215405,  0.28454588,  1.20895566,  0.39063512],\n",
      "       [-1.44249479, -0.2444073 ,  0.39063512, -2.22440174]])\n"
     ]
    }
   ],
   "source": [
    "X = ctf.tsr(A.shape)\n",
    "X.i(\"ij\") << Z.i(\"ij\")\n",
    "X.i(\"ij\") << U.i(\"ij\")\n",
    "X.i(\"ij\") << (1./n)*U.i(\"ik\") #!\n",
    "X.i(\"ij\") << (1./n)*U.i(\"jk\") #!\n",
    "X.i(\"ij\") << (1./n)*w.i(\"i\")\n",
    "X.i(\"ij\") << (1./n)*w.i(\"j\")\n",
    "#X.i(\"ij\") << 4.*A.i(\"ij\")*B.i(\"ij\")\n",
    "\n",
    "print(X)\n",
    "S = ctf.tsr(A.shape)\n",
    "S.i(\"ij\") << A.i(\"ij\")*B.i(\"ij\")\n",
    "print(S)\n",
    "C_ans = ctf.astensor(C_ref)\n",
    "Y = ctf.tsr(A.shape)\n",
    "Y.i(\"ij\") << C_ans.i(\"ij\")\n",
    "Y.i(\"ij\") << (1./n)*C_ans.i(\"ik\")\n",
    "Y.i(\"ij\") << (1./n)*C_ans.i(\"jk\")\n",
    "print(Y)"
   ]
  },
  {
   "cell_type": "markdown",
   "metadata": {},
   "source": [
    "Now, lastly we need a vector of the form $$w_{i}=\\sum_{j\\neq i} A_{ij}\\cdot B_{ij}$$ to cancel the remaining terms appearing in $Z_{ij}-U_{ij}+V_{ij}$ that we do not want, i.e. we want $w_{i} + w_{j} = Z_{ij} - U_{ij} + V_{ij}$. We could compute $w$ directly via $n \\choose 2$ multiplications. Instead, we get it from $U$ and $V$ via only $n$ multiplications, as we can show that \n",
    "$$\\sum_{j\\neq i} U_{ij}-V_{ij} = w_i + \\sum_{j\\neq i} \\Big[A_{ij}(b_i + b_j) + (a_i+a_j)B_{ij}\\Big].$$\n",
    "We can simplify the latter unwanted term as\n",
    "$$\\sum_{j\\neq i} (A_{ii}-a_{i})b_i + A_{ij}b_j + a_i(B_{ii}-b_i)+ a_jB_{ij}$$\n",
    "Applying the identity $<j(A)j(B)> = \\sum j(A\\odot j(B))$, we get (FIXME: things don't quite cancel, adjust scaling in j(A))\n",
    "$$w_i - \\sum_{j\\neq i} U_{ij}-V_{ij} = (n-1)(A_{ii}b_i + a_iB_{ii})= (n-1)(A_{ii}+a_i)(b_i+B_{ii}) - (n-1)A_{ii}B_{ii}.$$\n",
    "Therefore we can compute\n",
    "$$w_i + frac{n-1}2(U_{ii}-V_{ii})-\\sum_{j\\neq i} (U_{ij}-V_{ij})=\\frac{n-1}2(2A_{ii}b_i+2B_{ii}a_i) - ((n-1)(A_{ii}+a_i)(b_i+B_{ii})-  (n-1)A_{ii}B_{ii}) =  (n-1)(A_{ii}+a_i)(b_i+B_{ii}).$$\n",
    "We then need only to compute $n$ multiplications $(A_{ii}+a_i)(b_i+B_{ii})$."
   ]
  },
  {
   "cell_type": "code",
   "execution_count": 10,
   "metadata": {
    "collapsed": false
   },
   "outputs": [
    {
     "name": "stdout",
     "output_type": "stream",
     "text": [
      "array([-1.64394509,  0.91258678,  1.64031792, -0.13042512])\n",
      "array([-0.41519503, -0.01239304,  0.3233021 , -0.71125667])\n"
     ]
    }
   ],
   "source": [
    "Vref = ctf.tsr([n])\n",
    "V = ctf.tsr([n])\n",
    "Vref.i(\"i\") << A.i(\"ij\")*B.i(\"ij\")\n",
    "X = ctf.tsr([n,n])\n",
    "X.i(\"ij\") << Z.i(\"ij\") +- 2.*U.i(\"ij\") + 2.*V.i(\"ij\")\n",
    "#print(X)\n",
    "V.i(\"i\") << X.i(\"ij\")\n",
    "#V.i(\"i\") << U.i(\"ij\")+-1.0*V.i(\"ij\")\n",
    "#V.i(\"i\") << -(n-1.)*(A.i(\"ii\")+a.i(\"i\"))*(B.i(\"ii\")+b.i(\"i\"))\n",
    "print(V)\n",
    "print(Vref)"
   ]
  },
  {
   "cell_type": "code",
   "execution_count": null,
   "metadata": {
    "collapsed": true
   },
   "outputs": [],
   "source": []
  }
 ],
 "metadata": {
  "kernelspec": {
   "display_name": "Python 3",
   "language": "python",
   "name": "python3"
  },
  "language_info": {
   "codemirror_mode": {
    "name": "ipython",
    "version": 3
   },
   "file_extension": ".py",
   "mimetype": "text/x-python",
   "name": "python",
   "nbconvert_exporter": "python",
   "pygments_lexer": "ipython3",
   "version": "3.4.3"
  }
 },
 "nbformat": 4,
 "nbformat_minor": 2
}
