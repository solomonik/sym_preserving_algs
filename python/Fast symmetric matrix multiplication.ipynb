{
 "cells": [
  {
   "cell_type": "markdown",
   "metadata": {},
   "source": [
    "We show how to compute the symmetrized product of two symmetric matrices $A$, $B$, defined by $C=AB+BA$ using ${n+2 \\choose 3}$ multiplications rather than $n^3$. Some third order intermediate tensors are computed using the Cyclops Tensor Framework (CTF) library"
   ]
  },
  {
   "cell_type": "code",
   "execution_count": 1,
   "metadata": {
    "collapsed": true
   },
   "outputs": [],
   "source": [
    "import numpy as np\n",
    "import ctf"
   ]
  },
  {
   "cell_type": "markdown",
   "metadata": {},
   "source": [
    "Generate random symmetric matrices and compute a reference answer using `numpy`."
   ]
  },
  {
   "cell_type": "code",
   "execution_count": 2,
   "metadata": {
    "collapsed": true
   },
   "outputs": [],
   "source": [
    "n=4\n",
    "def get_rand_sym_mat(n):\n",
    "    A = np.random.random((n,n))-.5\n",
    "    A = np.triu(A)\n",
    "    A = A + A.T\n",
    "    return A\n",
    "A = get_rand_sym_mat(n)\n",
    "B = get_rand_sym_mat(n)\n",
    "\n",
    "C_ref = A @ B + B @ A"
   ]
  },
  {
   "cell_type": "markdown",
   "metadata": {},
   "source": [
    "Compute intermediate tensor $$\\hat{Z}_{ijk} = (A_{ij}+A_{ik}+A_{jk})\\cdot(B_{ij}+B_{ik}+B_{jk})$$"
   ]
  },
  {
   "cell_type": "code",
   "execution_count": 3,
   "metadata": {
    "collapsed": true
   },
   "outputs": [],
   "source": [
    "A = ctf.astensor(A)\n",
    "B = ctf.astensor(B)\n",
    "C = ctf.tsr([n,n])\n",
    "\n",
    "Zhat = ctf.tsr([n,n,n])\n",
    "Zhat.i(\"ijk\")<<(A.i(\"ij\")+A.i(\"ik\")+A.i(\"jk\"))*(B.i(\"ij\")+B.i(\"ik\")+B.i(\"jk\"))"
   ]
  },
  {
   "cell_type": "markdown",
   "metadata": {},
   "source": [
    "Write a function to verify symmetry of tensors and apply it to $\\hat{Z}$. We verify symmetry by checking that any transposition of modes leads to the same tensor. For a third order tensor, this implies that it has ${n+2\\choose 3}$ unique elements. We will avoid accessing the diagonals of $\\hat{Z}$, meaning they do not have to be computed, and only ${n\\choose 3}$ elements of $\\hat{Z}$ will be computed."
   ]
  },
  {
   "cell_type": "code",
   "execution_count": 4,
   "metadata": {},
   "outputs": [
    {
     "name": "stdout",
     "output_type": "stream",
     "text": [
      "Number of unique nonzeros in Zhat is now 4.0\n",
      "This is also the number of multiplications we need to compute Zhat\n"
     ]
    }
   ],
   "source": [
    "def verify_sym(A):\n",
    "    for i in range(A.ndim):\n",
    "        for j in range(i):\n",
    "            istr1 = np.asarray(range(A.ndim))\n",
    "            istr2 = istr1.copy()\n",
    "            istr2[i] = istr1[j]\n",
    "            istr2[j] = istr1[i]\n",
    "            str1 = ''.join(str(s) for s in istr1)\n",
    "            str2 = ''.join(str(s) for s in istr2)\n",
    "            B = ctf.tsr(A.shape)\n",
    "            B.i(str1) << A.i(str1)\n",
    "            B.i(str2) << -1.0*B.i(str1)\n",
    "            assert(B.norm2()/B.size < .000001)\n",
    "#verify symmetry\n",
    "verify_sym(A)\n",
    "verify_sym(Zhat)\n",
    "#zero out diagonal elements we will not use\n",
    "Zhat.i(\"jii\").scl(0.0) \n",
    "Zhat.i(\"iji\").scl(0.0) \n",
    "Zhat.i(\"iij\").scl(0.0)\n",
    "#print(Zhat)\n",
    "print(\"Number of unique nonzeros in Zhat is now\", np.count_nonzero(Zhat.to_nparray())/6)\n",
    "print(\"This is also the number of multiplications we need to compute Zhat\")"
   ]
  },
  {
   "cell_type": "markdown",
   "metadata": {},
   "source": [
    "Now compute a partial sum of $\\hat{Z}$ into $Z$."
   ]
  },
  {
   "cell_type": "code",
   "execution_count": 5,
   "metadata": {
    "collapsed": true
   },
   "outputs": [],
   "source": [
    "Z = ctf.tsr(A.shape)\n",
    "Z.i(\"ij\") << Zhat.i(\"ijk\")\n",
    "#Z"
   ]
  },
  {
   "cell_type": "markdown",
   "metadata": {},
   "source": [
    "We define a function `a = j(A)` which computes\n",
    "$$a_i = A_{ii} - \\sum_{j\\neq i} A_{ij}$$"
   ]
  },
  {
   "cell_type": "code",
   "execution_count": 6,
   "metadata": {},
   "outputs": [
    {
     "name": "stdout",
     "output_type": "stream",
     "text": [
      "array([-1.352427  , -1.85080181, -0.35072607,  0.31126246])\n",
      "[-1.352427   -1.85080181 -0.35072607  0.31126246]\n",
      "-3.05311331772e-16\n",
      "0.566246881446\n"
     ]
    }
   ],
   "source": [
    "def j(A):\n",
    "    B = ctf.tsr([n])\n",
    "    B.i(\"i\") << -1.0*A.i(\"ij\") + 2.0*A.i(\"ii\")\n",
    "    return B\n",
    "a = j(A)\n",
    "b = j(B)\n",
    "def npj(A):\n",
    "    B = np.zeros(n);\n",
    "    B[:] -= np.sum(A[:,i] for i in range(n))\n",
    "    B += 2.*np.diagonal(A)\n",
    "    return B\n",
    "print(j(A))\n",
    "print(npj(A.to_nparray()))\n",
    "print(npj(A.to_nparray()) @ npj(B.to_nparray())-np.sum(npj(A.to_nparray()*npj(B.to_nparray()))))\n",
    "print(npj(A.to_nparray()) @ npj(B.to_nparray())-np.sum(npj(A.to_nparray()*B.to_nparray())))\n",
    "#print(A)\n",
    "#a"
   ]
  },
  {
   "cell_type": "markdown",
   "metadata": {},
   "source": [
    "Compute matrix\n",
    "$$U_{ij} = (A_{ij} + a_i + a_j)\\cdot (B_{ij} + b_i + b_j)$$\n",
    "where $a$ and $b$ are jacobinated $A$ and $B$. The elements of $U$ are meant to cancel some unwated terms in corresponding element of $Z$, but also introduce some new unwanted terms. Only $n \\choose 2$ multiplications are needed to compute $U$, since it is symmetric and we will not use its diagonal."
   ]
  },
  {
   "cell_type": "code",
   "execution_count": 7,
   "metadata": {
    "collapsed": true
   },
   "outputs": [],
   "source": [
    "U = ctf.tsr(A.shape)\n",
    "U.i(\"ij\") << (A.i(\"ij\") + a.i(\"i\") + a.i(\"j\"))*(B.i(\"ij\") + b.i(\"i\") + b.i(\"j\"))\n",
    "U.i(\"ii\").scl(0.0)\n",
    "#U"
   ]
  },
  {
   "cell_type": "markdown",
   "metadata": {},
   "source": [
    "Compute matrix\n",
    "$$V_{ij} = (a_i + a_j)\\cdot (b_i + b_j)$$\n",
    "where $a$ and $b$ are jacobinated $A$ and $B$. The elements of $V$ are meant to cancel the unwated terms in corresponding element of $U$. Only $n \\choose 2$ multiplications are needed to compute $V$, since it is symmetric and we will not use its diagonal."
   ]
  },
  {
   "cell_type": "code",
   "execution_count": 11,
   "metadata": {},
   "outputs": [
    {
     "data": {
      "text/plain": [
       "array([[ 0.        ,  1.32653264,  1.06539428,  0.41765836],\n",
       "       [ 1.32653264, -0.        , -3.44133795, -2.75201252],\n",
       "       [ 1.06539428, -3.44133795, -0.        , -0.06220005],\n",
       "       [ 0.41765836, -2.75201252, -0.06220005,  0.        ]])"
      ]
     },
     "execution_count": 11,
     "metadata": {},
     "output_type": "execute_result"
    }
   ],
   "source": [
    "V = ctf.tsr(A.shape)\n",
    "V.i(\"ij\") << (a.i(\"i\") + a.i(\"j\"))*(b.i(\"i\") + b.i(\"j\"))\n",
    "V.i(\"ii\").scl(0.0)\n",
    "V"
   ]
  },
  {
   "cell_type": "markdown",
   "metadata": {},
   "source": [
    "Now, lastly we need a vector of the form $$w_{i}=\\sum_{j\\neq i} A_{ij}\\cdot B_{ij}$$ to cancel the remaining terms appearing in $Z_{ij}-U_{ij}+V_{ij}$ that we do not want, i.e. we want $w_{i} + w_{j} = Z_{ij} - U_{ij} + V_{ij}$. We could compute $w$ directly via $n \\choose 2$ multiplications. Instead, we get it from $U$ and $V$ via only $n$ multiplications, as we can show that \n",
    "$$\\sum_{j\\neq i} U_{ij}-V_{ij} = w_i + \\sum_{j\\neq i} \\Big[A_{ij}(b_i + b_j) + (a_i+a_j)B_{ij}\\Big].$$\n",
    "We can simplify the latter unwanted term as\n",
    "$$\\sum_{j\\neq i} (A_{ii}-a_{i})b_i + A_{ij}b_j + a_i(B_{ii}-b_i)+ a_jB_{ij}$$\n",
    "Applying the identity $<j(A)j(B)> = \\sum j(A\\odot j(B))$, we get (FIXME: things don't quite cancel, adjust scaling in j(A))\n",
    "$$w_i - \\sum_{j\\neq i} U_{ij}-V_{ij} = (n-1)(A_{ii}b_i + a_iB_{ii})= (n-1)(A_{ii}+a_i)(b_i+B_{ii}) - (n-1)A_{ii}B_{ii}.$$\n",
    "Therefore we can compute\n",
    "$$w_i + frac{n-1}2(U_{ii}-V_{ii})-\\sum_{j\\neq i} (U_{ij}-V_{ij})=\\frac{n-1}2(2A_{ii}b_i+2B_{ii}a_i) - ((n-1)(A_{ii}+a_i)(b_i+B_{ii})-  (n-1)A_{ii}B_{ii}) =  (n-1)(A_{ii}+a_i)(b_i+B_{ii}).$$\n",
    "We then need only to compute $n$ multiplications $(A_{ii}+a_i)(b_i+B_{ii})$."
   ]
  },
  {
   "cell_type": "code",
   "execution_count": 10,
   "metadata": {},
   "outputs": [
    {
     "name": "stdout",
     "output_type": "stream",
     "text": [
      "array([ -3.7748156 ,  18.64790328,   7.42868586,   2.94732615])\n",
      "array([ 0.65984785, -0.88720597, -0.00808042,  0.23309865])\n"
     ]
    }
   ],
   "source": [
    "Vref = ctf.tsr([n])\n",
    "V = ctf.tsr([n])\n",
    "Vref.i(\"i\") << A.i(\"ij\")*B.i(\"ij\")\n",
    "V.i(\"i\") << U.i(\"ij\")+-1.0*V.i(\"ij\")\n",
    "V.i(\"i\") << -(n-1.)*(A.i(\"ii\")+a.i(\"i\"))*(B.i(\"ii\")+b.i(\"i\"))\n",
    "print(V)\n",
    "print(Vref)"
   ]
  },
  {
   "cell_type": "code",
   "execution_count": null,
   "metadata": {
    "collapsed": true
   },
   "outputs": [],
   "source": []
  }
 ],
 "metadata": {
  "kernelspec": {
   "display_name": "Python 3",
   "language": "python",
   "name": "python3"
  },
  "language_info": {
   "codemirror_mode": {
    "name": "ipython",
    "version": 3
   },
   "file_extension": ".py",
   "mimetype": "text/x-python",
   "name": "python",
   "nbconvert_exporter": "python",
   "pygments_lexer": "ipython3",
   "version": "3.5.2"
  }
 },
 "nbformat": 4,
 "nbformat_minor": 2
}
