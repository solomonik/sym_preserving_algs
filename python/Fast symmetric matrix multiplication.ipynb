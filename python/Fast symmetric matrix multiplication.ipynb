{
 "cells": [
  {
   "cell_type": "markdown",
   "metadata": {},
   "source": [
    "We show how to compute the symmetrized product of two symmetric matrices $A$, $B$, defined by $C=AB+BA$ using ${n+2 \\choose 3}$ multiplications rather than $n^3$. Some third order intermediate tensors are computed using the Cyclops Tensor Framework (CTF) library"
   ]
  },
  {
   "cell_type": "code",
   "execution_count": 1,
   "metadata": {
    "collapsed": true
   },
   "outputs": [],
   "source": [
    "import numpy as np\n",
    "import ctf"
   ]
  },
  {
   "cell_type": "markdown",
   "metadata": {},
   "source": [
    "Generate random symmetric matrices and compute a reference answer using `numpy`."
   ]
  },
  {
   "cell_type": "code",
   "execution_count": 11,
   "metadata": {},
   "outputs": [],
   "source": [
    "n=4\n",
    "def get_rand_sym_mat(n):\n",
    "    A = np.random.random((n,n))-.5\n",
    "    A = np.triu(A)\n",
    "    A = A + A.T\n",
    "    return A\n",
    "A = get_rand_sym_mat(n)\n",
    "B = get_rand_sym_mat(n)\n",
    "\n",
    "C_ref = A @ B + B @ A"
   ]
  },
  {
   "cell_type": "markdown",
   "metadata": {},
   "source": [
    "Compute intermediate tensor $$\\hat{Z}_{ijk} = (A_{ij}+A_{ik}+A_{kj})\\cdot(B_{ij}+B_{ik}+B_{kj})$$"
   ]
  },
  {
   "cell_type": "code",
   "execution_count": 16,
   "metadata": {},
   "outputs": [],
   "source": [
    "A = ctf.astensor(A)\n",
    "B = ctf.astensor(B)\n",
    "C = ctf.tsr([n,n])\n",
    "\n",
    "Zhat = ctf.tsr([n,n,n])\n",
    "Zhat.i(\"ijk\")<<(A.i(\"ij\")+A.i(\"ik\")+A.i(\"jk\"))*(B.i(\"ij\")+B.i(\"ik\")+B.i(\"jk\"))"
   ]
  },
  {
   "cell_type": "markdown",
   "metadata": {},
   "source": [
    "Write a function to verify symmetry of tensors and apply it to $\\hat{Z}$. We verify symmetry by checking that any transposition of modes leads to the same tensor. For a third order tensor, this implies that it has ${n+2\\choose 3}$ unique elements. We will avoid accessing the diagonals of $\\hat{Z}$, meaning they do not have to be computed, and only ${n\\choose 3}$ elements of $\\hat{Z}$ will be computed."
   ]
  },
  {
   "cell_type": "code",
   "execution_count": 1,
   "metadata": {},
   "outputs": [
    {
     "ename": "NameError",
     "evalue": "name 'A' is not defined",
     "output_type": "error",
     "traceback": [
      "\u001b[0;31m---------------------------------------------------------------------------\u001b[0m",
      "\u001b[0;31mNameError\u001b[0m                                 Traceback (most recent call last)",
      "\u001b[0;32m<ipython-input-1-9e34c340dabc>\u001b[0m in \u001b[0;36m<module>\u001b[0;34m()\u001b[0m\n\u001b[1;32m     13\u001b[0m             \u001b[0;32massert\u001b[0m\u001b[0;34m(\u001b[0m\u001b[0mB\u001b[0m\u001b[0;34m.\u001b[0m\u001b[0mnorm2\u001b[0m\u001b[0;34m(\u001b[0m\u001b[0;34m)\u001b[0m\u001b[0;34m/\u001b[0m\u001b[0mB\u001b[0m\u001b[0;34m.\u001b[0m\u001b[0msize\u001b[0m \u001b[0;34m<\u001b[0m \u001b[0;36m.000001\u001b[0m\u001b[0;34m)\u001b[0m\u001b[0;34m\u001b[0m\u001b[0m\n\u001b[1;32m     14\u001b[0m \u001b[0;31m#verify symmetry\u001b[0m\u001b[0;34m\u001b[0m\u001b[0;34m\u001b[0m\u001b[0m\n\u001b[0;32m---> 15\u001b[0;31m \u001b[0mverify_sym\u001b[0m\u001b[0;34m(\u001b[0m\u001b[0mA\u001b[0m\u001b[0;34m)\u001b[0m\u001b[0;34m\u001b[0m\u001b[0m\n\u001b[0m\u001b[1;32m     16\u001b[0m \u001b[0mverify_sym\u001b[0m\u001b[0;34m(\u001b[0m\u001b[0mZhat\u001b[0m\u001b[0;34m)\u001b[0m\u001b[0;34m\u001b[0m\u001b[0m\n\u001b[1;32m     17\u001b[0m \u001b[0;31m#zero out diagonal elements we will not use\u001b[0m\u001b[0;34m\u001b[0m\u001b[0;34m\u001b[0m\u001b[0m\n",
      "\u001b[0;31mNameError\u001b[0m: name 'A' is not defined"
     ]
    }
   ],
   "source": [
    "def verify_sym(A):\n",
    "    for i in range(A.ndim):\n",
    "        for j in range(i):\n",
    "            istr1 = np.asarray(range(A.ndim))\n",
    "            istr2 = istr1.copy()\n",
    "            istr2[i] = istr1[j]\n",
    "            istr2[j] = istr1[i]\n",
    "            str1 = ''.join(str(s) for s in istr1)\n",
    "            str2 = ''.join(str(s) for s in istr2)\n",
    "            B = ctf.tsr(A.shape)\n",
    "            B.i(str1) << A.i(str1)\n",
    "            B.i(str2) << -1.0*B.i(str1)\n",
    "            assert(B.norm2()/B.size < .000001)\n",
    "#verify symmetry\n",
    "verify_sym(A)\n",
    "verify_sym(Zhat)\n",
    "#zero out diagonal elements we will not use\n",
    "Zhat.i(\"jii\").scale(0.0) \n",
    "Zhat.i(\"iji\").scale(0.0) \n",
    "Zhat.i(\"iij\").scale(0.0)\n",
    "print(Zhat)"
   ]
  },
  {
   "cell_type": "code",
   "execution_count": null,
   "metadata": {
    "collapsed": true
   },
   "outputs": [],
   "source": []
  },
  {
   "cell_type": "code",
   "execution_count": null,
   "metadata": {
    "collapsed": true
   },
   "outputs": [],
   "source": []
  },
  {
   "cell_type": "code",
   "execution_count": null,
   "metadata": {
    "collapsed": true
   },
   "outputs": [],
   "source": []
  }
 ],
 "metadata": {
  "kernelspec": {
   "display_name": "Python 3",
   "language": "python",
   "name": "python3"
  },
  "language_info": {
   "codemirror_mode": {
    "name": "ipython",
    "version": 3
   },
   "file_extension": ".py",
   "mimetype": "text/x-python",
   "name": "python",
   "nbconvert_exporter": "python",
   "pygments_lexer": "ipython3",
   "version": "3.5.2"
  }
 },
 "nbformat": 4,
 "nbformat_minor": 2
}
