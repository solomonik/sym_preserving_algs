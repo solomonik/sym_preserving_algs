{
 "cells": [
  {
   "cell_type": "markdown",
   "metadata": {},
   "source": [
    "We show how to compute the symmetrized product of two symmetric matrices $A$, $B$, defined by $C=AB+BA$ using ${n+2 \\choose 3}$ multiplications rather than $n^3$. "
   ]
  },
  {
   "cell_type": "code",
   "execution_count": 8,
   "metadata": {},
   "outputs": [],
   "source": [
    "import numpy as np"
   ]
  },
  {
   "cell_type": "markdown",
   "metadata": {},
   "source": [
    "Generate random symmetric matrices and compute a reference answer using `numpy`."
   ]
  },
  {
   "cell_type": "code",
   "execution_count": 27,
   "metadata": {},
   "outputs": [
    {
     "data": {
      "text/plain": [
       "array([[ 0.07025921, -0.28078669,  0.17735199,  0.27339567, -0.41366865],\n",
       "       [-0.28078669, -0.60674186,  0.34136175, -0.32890663, -0.40695536],\n",
       "       [ 0.17735199,  0.34136175,  0.71133836,  0.02992474, -0.35496175],\n",
       "       [ 0.27339567, -0.32890663,  0.02992474, -0.82019913,  0.24295093],\n",
       "       [-0.41366865, -0.40695536, -0.35496175,  0.24295093, -0.0055194 ]])"
      ]
     },
     "execution_count": 27,
     "metadata": {},
     "output_type": "execute_result"
    }
   ],
   "source": [
    "n=5\n",
    "def get_rand_sym_mat(n):\n",
    "    A = np.random.random((n,n))-.5\n",
    "    A = np.triu(A)\n",
    "    A = A + A.T\n",
    "    return A\n",
    "A = get_rand_sym_mat(n)\n",
    "B = get_rand_sym_mat(n)\n",
    "a = np.sum(A,axis=0)\n",
    "b = np.sum(B,axis=0)\n",
    "C_ref = A @ B + B @ A\n",
    "C_ref"
   ]
  },
  {
   "cell_type": "code",
   "execution_count": 28,
   "metadata": {},
   "outputs": [
    {
     "data": {
      "text/plain": [
       "array([[ 0.07025921, -0.28078669,  0.17735199,  0.27339567, -0.41366865],\n",
       "       [-0.28078669, -0.60674186,  0.34136175, -0.32890663, -0.40695536],\n",
       "       [ 0.17735199,  0.34136175,  0.71133836,  0.02992474, -0.35496175],\n",
       "       [ 0.27339567, -0.32890663,  0.02992474, -0.82019913,  0.24295093],\n",
       "       [-0.41366865, -0.40695536, -0.35496175,  0.24295093, -0.0055194 ]])"
      ]
     },
     "execution_count": 28,
     "metadata": {},
     "output_type": "execute_result"
    }
   ],
   "source": [
    "Z = np.zeros((n,n))\n",
    "for i in range(n):\n",
    "    for j in range(n):\n",
    "        for k in range(n):\n",
    "            Z[i,j] += (A[i,j]+A[i,k]+A[j,k])*(B[i,j]+B[i,k]+B[j,k])\n",
    "U = A * (n*B + np.add.outer(b,b))\n",
    "V = (np.add.outer(a,a)) * B\n",
    "D = Z - U - V\n",
    "d = np.diag(D)\n",
    "C = D-np.add.outer(d/4,d/4)\n",
    "C"
   ]
  },
  {
   "cell_type": "code",
   "execution_count": null,
   "metadata": {
    "collapsed": true
   },
   "outputs": [],
   "source": []
  }
 ],
 "metadata": {
  "kernelspec": {
   "display_name": "Python 3",
   "language": "python",
   "name": "python3"
  },
  "language_info": {
   "codemirror_mode": {
    "name": "ipython",
    "version": 3
   },
   "file_extension": ".py",
   "mimetype": "text/x-python",
   "name": "python",
   "nbconvert_exporter": "python",
   "pygments_lexer": "ipython3",
   "version": "3.5.2"
  }
 },
 "nbformat": 4,
 "nbformat_minor": 2
}
